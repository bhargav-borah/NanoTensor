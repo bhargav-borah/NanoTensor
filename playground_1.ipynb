{
 "cells": [
  {
   "cell_type": "code",
   "execution_count": 3,
   "metadata": {
    "id": "uDyM1x927juG"
   },
   "outputs": [],
   "source": [
    "import numpy as np\n",
    "import math\n",
    "import matplotlib.pyplot as plt\n",
    "import torch\n",
    "%matplotlib inline"
   ]
  },
  {
   "cell_type": "code",
   "execution_count": 4,
   "metadata": {
    "id": "pb21orWY8lRm"
   },
   "outputs": [],
   "source": [
    "def f(x):\n",
    "  return 3 * x**2 + 9 * x - 7"
   ]
  },
  {
   "cell_type": "code",
   "execution_count": 5,
   "metadata": {
    "colab": {
     "base_uri": "https://localhost:8080/"
    },
    "id": "6p5sUHgV8vGu",
    "outputId": "d2cd4353-2ddb-4dff-cc7b-b4f0b5b73a68"
   },
   "outputs": [
    {
     "data": {
      "text/plain": [
       "383"
      ]
     },
     "execution_count": 5,
     "metadata": {},
     "output_type": "execute_result"
    }
   ],
   "source": [
    "f(10)"
   ]
  },
  {
   "cell_type": "code",
   "execution_count": 6,
   "metadata": {
    "colab": {
     "base_uri": "https://localhost:8080/"
    },
    "id": "lv11LL-N8v7Q",
    "outputId": "6c60b6ca-ffe1-4c1f-e854-8b21243abefb"
   },
   "outputs": [
    {
     "data": {
      "text/plain": [
       "69.00000295217978"
      ]
     },
     "execution_count": 6,
     "metadata": {},
     "output_type": "execute_result"
    }
   ],
   "source": [
    "# df(x)/dx = 6 * x + 9\n",
    "# df(x)/dx [x=10] = 69\n",
    "# df(x) / dx = (f(x + h) - f(x)) / ((x + h) - (x)) = (f(x + h) - f(x)) / h\n",
    "h = 1e-6\n",
    "x = 10\n",
    "(f(x + h) - f(x)) / h"
   ]
  },
  {
   "cell_type": "code",
   "execution_count": 7,
   "metadata": {
    "colab": {
     "base_uri": "https://localhost:8080/"
    },
    "id": "7NweV54H9Scx",
    "outputId": "9f10d47f-6066-4c93-d4e0-c458030ce91f"
   },
   "outputs": [
    {
     "data": {
      "text/plain": [
       "0.4999998750587764"
      ]
     },
     "execution_count": 7,
     "metadata": {},
     "output_type": "execute_result"
    }
   ],
   "source": [
    "# Another example\n",
    "# g(x) = log(x) [base e]\n",
    "# dg(x)/dx = (1 / x)\n",
    "# dg(x)/dx [x = 2] = 0.5\n",
    "def g(x):\n",
    "  return math.log(x)\n",
    "\n",
    "h = 1e-6\n",
    "x = 2\n",
    "(g(x + h) - g(x)) / h"
   ]
  },
  {
   "cell_type": "code",
   "execution_count": 8,
   "metadata": {
    "colab": {
     "base_uri": "https://localhost:8080/"
    },
    "id": "R93L2wFq90ca",
    "outputId": "ce51ab61-ee7b-422a-9391-6b91b1358f1a"
   },
   "outputs": [
    {
     "name": "stdout",
     "output_type": "stream",
     "text": [
      "9.000000005698894\n"
     ]
    }
   ],
   "source": [
    "h = 1e-6\n",
    "\n",
    "a = 9.0\n",
    "b = -5.0\n",
    "c = 100\n",
    "\n",
    "d1 = a * b - c\n",
    "b += h\n",
    "d2 = a * b - c\n",
    "\n",
    "# dd/db = a = 9.0\n",
    "print((d2 - d1) / h)"
   ]
  },
  {
   "cell_type": "code",
   "execution_count": 9,
   "metadata": {
    "colab": {
     "base_uri": "https://localhost:8080/"
    },
    "id": "d6Zhgfxi-g1R",
    "outputId": "430f71e7-7a2e-4c09-b020-e627c8246be1"
   },
   "outputs": [
    {
     "name": "stdout",
     "output_type": "stream",
     "text": [
      "-4.9999999873762135\n"
     ]
    }
   ],
   "source": [
    "h = 1e-6\n",
    "\n",
    "a = 9.0\n",
    "b = -5.0\n",
    "c = 100\n",
    "\n",
    "d1 = a * b - c\n",
    "a += h\n",
    "d2 = a * b - c\n",
    "\n",
    "# dd/da = b = -5.0\n",
    "print((d2 - d1) / h)"
   ]
  },
  {
   "cell_type": "code",
   "execution_count": 10,
   "metadata": {
    "colab": {
     "base_uri": "https://localhost:8080/"
    },
    "id": "zmSYFf6a-uCN",
    "outputId": "ab74d9af-22bc-4ba7-aeb1-bb1e27136539"
   },
   "outputs": [
    {
     "name": "stdout",
     "output_type": "stream",
     "text": [
      "-0.9999999974752427\n"
     ]
    }
   ],
   "source": [
    "h = 1e-6\n",
    "\n",
    "a = 9.0\n",
    "b = -5.0\n",
    "c = 100\n",
    "\n",
    "d1 = a * b - c\n",
    "c += h\n",
    "d2 = a * b - c\n",
    "\n",
    "# dd/dc = -1.0\n",
    "print((d2 - d1) / h)"
   ]
  },
  {
   "cell_type": "code",
   "execution_count": 11,
   "metadata": {
    "id": "aoBbZr1r-y9H"
   },
   "outputs": [],
   "source": [
    "class Tensor:\n",
    "\n",
    "  def __init__(self, data, children=()):\n",
    "    self.data = data\n",
    "    self._prev = set(children)\n",
    "\n",
    "  def __add__(self, other):\n",
    "    other = other if isinstance(other, Tensor) else Tensor(other)\n",
    "    out = Tensor(self.data + other.data, (self, other))\n",
    "\n",
    "    return out\n",
    "\n",
    "  def __radd__(self, other):\n",
    "    return self + other\n",
    "\n",
    "  def __neg__(self):\n",
    "    out = Tensor(-self.data)\n",
    "\n",
    "    return out\n",
    "\n",
    "  def __sub__(self, other):\n",
    "    other = other if isinstance(other, Tensor) else Tensor(other)\n",
    "\n",
    "    return self + (-other)\n",
    "\n",
    "  def __rsub__(self, other):\n",
    "    return (-self) + other\n",
    "\n",
    "  def __mul__(self, other):\n",
    "    other = other if isinstance(other, Tensor) else Tensor(other)\n",
    "    out = Tensor(self.data * other.data)\n",
    "\n",
    "    return out\n",
    "\n",
    "  def __mul__(self, other):\n",
    "    return self * other;\n",
    "\n",
    "  def __pow__(self, other):\n",
    "    return Tensor(self.data ** other)\n",
    "\n",
    "\n",
    "  def __truediv__(self, other):\n",
    "    pass\n",
    "\n",
    "  def __repr__(self):\n",
    "    return f\"tensor({self.data})\""
   ]
  },
  {
   "cell_type": "code",
   "execution_count": null,
   "metadata": {
    "colab": {
     "base_uri": "https://localhost:8080/"
    },
    "id": "nPlbJkHW_RbJ",
    "outputId": "479cc3ea-f2ea-4157-94b1-43ccca461377"
   },
   "outputs": [],
   "source": [
    "a = Tensor(8.0)\n",
    "b = Tensor(2.0)\n",
    "a * b"
   ]
  },
  {
   "cell_type": "code",
   "execution_count": null,
   "metadata": {
    "id": "2_EZqq2g_TWp"
   },
   "outputs": [],
   "source": [
    "a = Tensor(3)\n",
    "b = 4\n",
    "# a + b\n",
    "b + a"
   ]
  },
  {
   "cell_type": "code",
   "execution_count": null,
   "metadata": {
    "id": "x7dYdOiB_bEz"
   },
   "outputs": [],
   "source": [
    "a = Tensor(9)\n",
    "-a"
   ]
  },
  {
   "cell_type": "code",
   "execution_count": null,
   "metadata": {
    "id": "Pznhsxc0CXho"
   },
   "outputs": [],
   "source": []
  },
  {
   "cell_type": "code",
   "execution_count": null,
   "metadata": {},
   "outputs": [],
   "source": []
  }
 ],
 "metadata": {
  "colab": {
   "provenance": []
  },
  "kernelspec": {
   "display_name": "Python 3 (ipykernel)",
   "language": "python",
   "name": "python3"
  },
  "language_info": {
   "codemirror_mode": {
    "name": "ipython",
    "version": 3
   },
   "file_extension": ".py",
   "mimetype": "text/x-python",
   "name": "python",
   "nbconvert_exporter": "python",
   "pygments_lexer": "ipython3",
   "version": "3.9.13"
  }
 },
 "nbformat": 4,
 "nbformat_minor": 1
}
